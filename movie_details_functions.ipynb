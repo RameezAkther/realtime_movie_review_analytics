{
 "cells": [
  {
   "cell_type": "code",
   "execution_count": 17,
   "id": "993bb0d2-d997-4139-8cfb-cf96027d1822",
   "metadata": {},
   "outputs": [],
   "source": [
    "import requests\n",
    "import time\n",
    "from bs4 import BeautifulSoup\n",
    "import re\n",
    "\n",
    "from selenium import webdriver\n",
    "from selenium.webdriver.common.by import By\n",
    "from selenium.webdriver.common.action_chains import ActionChains\n",
    "from selenium.webdriver.support.ui import WebDriverWait\n",
    "from selenium.webdriver.support import expected_conditions as EC"
   ]
  },
  {
   "cell_type": "code",
   "execution_count": 5,
   "id": "a75b661c-a8f3-4088-8f01-eca1ca85431f",
   "metadata": {},
   "outputs": [],
   "source": [
    "HEADERS = {\n",
    "\t\"x-rapidapi-key\": \"d4f11cda99mshaf0c893d26831e1p1e08ecjsnf73b7a997619\",\n",
    "\t\"x-rapidapi-host\": \"online-movie-database.p.rapidapi.com\"\n",
    "    }"
   ]
  },
  {
   "cell_type": "code",
   "execution_count": 101,
   "id": "b952a147-2870-4a34-97b1-e76329e02c8d",
   "metadata": {},
   "outputs": [],
   "source": [
    "def scrape_reviews(html_content):\n",
    "    soup = BeautifulSoup(html_content, 'html.parser')\n",
    "    reviews_soup = soup.find_all('drawer-more')\n",
    "    reviews = []\n",
    "    for i in reviews_soup:\n",
    "        # Get the raw text, strip surrounding whitespace, and replace multiple spaces/newlines with a single space\n",
    "        clean_text = re.sub(r'\\s+', ' ', i.text.strip())\n",
    "        reviews.append(clean_text)\n",
    "    return reviews"
   ]
  },
  {
   "cell_type": "code",
   "execution_count": 103,
   "id": "ca654379-df17-4f70-8d23-8b770d6394c4",
   "metadata": {},
   "outputs": [],
   "source": [
    "def perform_clicks(driver):\n",
    "    num_clicks = 5\n",
    "    for _ in range(num_clicks):\n",
    "        try:\n",
    "            # Wait until the \"Load More\" button is clickable and then click it\n",
    "            load_more_button = WebDriverWait(driver, 10).until(\n",
    "                EC.element_to_be_clickable((By.CSS_SELECTOR, 'rt-button[data-qa=\"load-more-btn\"]'))\n",
    "            )\n",
    "            load_more_button.click()\n",
    "            time.sleep(2)  # Wait for new reviews to load (adjust based on load time)\n",
    "        except Exception as e:\n",
    "            print(\"Error clicking Load More button:\", e)\n",
    "            break"
   ]
  },
  {
   "cell_type": "code",
   "execution_count": 105,
   "id": "13db9eb9-7c59-41db-9cc1-11ad56ba279f",
   "metadata": {},
   "outputs": [],
   "source": [
    "def get_link(html_source):\n",
    "    soup = BeautifulSoup(html_source, \"html.parser\")\n",
    "    link = soup.find(\"search-page-media-row\", {\"data-qa\": \"data-row\"})\n",
    "    link = soup.find(\"a\", {\"data-qa\": \"info-name\"})\n",
    "    href = link.get(\"href\") if link else None\n",
    "    return href"
   ]
  },
  {
   "cell_type": "code",
   "execution_count": 107,
   "id": "540fd3f8-403e-4fc2-9801-c8eee392a2c0",
   "metadata": {},
   "outputs": [],
   "source": [
    "def get_movie_site(movie_name, driver):\n",
    "    q = movie_name.lower().replace(\" \", \"%20\")\n",
    "    url = f\"https://www.rottentomatoes.com/search?search={q}\"\n",
    "    driver.get(url)\n",
    "    page_html = driver.page_source\n",
    "    return get_link(page_html)"
   ]
  },
  {
   "cell_type": "code",
   "execution_count": 109,
   "id": "4c2caa36-4100-4f96-897e-6c589c685a6d",
   "metadata": {},
   "outputs": [],
   "source": [
    "def get_movie_reviews(movie_name):\n",
    "    driver = webdriver.Chrome()\n",
    "    url = get_movie_site(movie_name, driver) + \"/reviews?type=user\"\n",
    "    driver.get(url)\n",
    "    perform_clicks(driver)\n",
    "    page_html = driver.page_source\n",
    "    driver.quit()\n",
    "    reviews = scrape_reviews(page_html)\n",
    "    return reviews"
   ]
  },
  {
   "cell_type": "code",
   "execution_count": 111,
   "id": "a195aaa9-c107-4859-aa37-8b8c65d325db",
   "metadata": {},
   "outputs": [
    {
     "data": {
      "text/plain": [
       "['Direção: Bom Atuação: Ok Roteiro: Ok Caracterização: Ok Soundtrack: Bom Show Less Show More',\n",
       " 'the worst bad idea for ben parkers death and not that good of a vilean Show Less Show More',\n",
       " 'Highly underrated and badly reviewed on this site.Too many haters looking for to be McGuire.This movie goes off the beaten path alittle and delivers magic. Show Less Show More',\n",
       " \"To be fair even though I was not a fan of Sony rebooting the Sam Raimi Spider-Man franchise I was willing to give this a chance. I didn't like this film. The odd casting choices and The way the story dragged before it got to the death of Uncle Ben. I should also add they lied to the audience and said they was not going to do another origin story but ended up doing one. The way they interpret Peter Parker in this film was not comic accurate at all. Andrew Garfield acting felt phoned in and the costume design I have no idea what the studio was thinking. Overall I was disappointed and didn't even bother to stick around for its sequel. We were robbed of Spider-Man 4. Show Less Show More\",\n",
       " 'Garfield shines as a great Spider-Man, but a not particularly convincing Peter Parker. Otherwise, this movie hits the mark almost perfectly. Show Less Show More',\n",
       " 'Spiderman reboot of sorts.Still good! Show Less Show More',\n",
       " 'Andrew garfeild with that acting reminds me OF Garfield Show Less Show More',\n",
       " \"Marc Webb's The Amazing Spider-Man is just honestly, extremely underrated. It honestly has the most grounded and more realistic depiction of Spider-Man in any movie, and has way more depth than people realised. Firstly, when I watched the film, I sometimes forget that it is a Marvel movie and more like a film about high school, family, or drama. It's just that good. The filmmakers decided to give you more depth to Peter Parker, his relationship with his loved one and particularly, Uncle Ben. Unlike the first Sam Raimi Spider-Man, the film made sure to explore more of Peter Parker's life before he becomes Spider-Man. Whether before or after the spider bite, there was sufficient focus on Parker's high school life, his relationship with Aunt May, Uncle Ben and Gwen Stacy, and what he initially used his powers for. Another thing that I loved, was the development of Peter initially became Spider-Man to take revenge on Uncle Ben's killer, and not for the sake of helping those in need, to having a change of heart and decided to use his powers to help the people of New York after helping a father save his son at a bridge. Another heartwarming scene was when that same father, who is revealed to be a construction worker, repays his kindness by helping an injured Spider-Man get to Oscorp tower by getting his fellow construction workers to align their cranes. This film shows that not every superhero needs to have powers, without the help of the father, Gwen and George Stacy, Spider-Man wouldn't have been able to save the city. Marc Webb is also an excellent director, and the film looked stunningly beautiful under his direction. The visual effects (VFX) of this film also doesn't get enough credit, they are a 100 times better than most visual effects in many other Marvel movies. The physics of Spider-Man's swinging not only looked swift, but they also felt so real. The VFX of the Lizard also looked incredibly stunning, from the details of his skin and muscle, to his movements, they all looked so real, and way better than how he looked 9 years later in Spider-Man: No Way Home. Another thing that may not get talked about enough is none other than James Horner's musical score. It is so touching, pleasant, and is one of the best soundtracks in any Spider-Man movie. Lastly, the acting from the casts also do not get much credit. Andrew Garfield is an astonishing actor who captured the personality and emotions of Peter Parker so well, and the characteristics of Spider-Man. He also had excellent chemistry with his fellow co-stars, Emma Stone (Gwen Stacy), Martin Sheen (Uncle Ben), and Sally Field (Aunt May). Andrew and Emma's relationship felt the most realistic among the Spider-Man movies, and had the best characterization in any Spider-Man movie. Director Marc Webb, screenwriters James Vanderbilt, Alvin Sargent and Steve Kloves, composer James Horner, visual effects company Sony Pictures Imageworks, and the cast made this film so real and it's sad they don't get enough credit! Well, I hope that whoever reads this review will go back and watch The Amazing Spider-Man and appreciate the masterpiece it still is. And Sony, #MakeTASM3. Show Less Show More\",\n",
       " 'This was a decent movie. I resisted watching it for the longest time because I get sick of the reboots (thanks Batman/Superman, etc). I figured after seeing the newest reboot, I should probably see this one too. They changed things up a bit in a good way. I’d still recommend the Toby McGuire Spider-Man over all of them though, and maybe that’s just because I grew up with those ones. Regardless, it’s an entertaining stream for the evening if it’s available. Show Less Show More',\n",
       " 'Slow, boring and unimaginative. Show Less Show More',\n",
       " \"The suit is good it could be better but there is way to much hate for this movie I love it ,the lizard does look weird but it's a human sized lizard in live action of course it's going to look weird, this movie is in my top 3 Spiderman movies, I think this is the best adaptation of Peter parker we are ever going to get Show Less Show More\",\n",
       " 'This movie changed my understanding of the spidey universe and is deserving of the title Amazing Spider Man Show Less Show More',\n",
       " \"Andrew is a great Spider-Man, but the overall vibe isn't as strong as the original Tobey movies. Show Less Show More\",\n",
       " 'È un reboot niente male, ma distribuisce alcune scene imbarazzanti e noiose. La rappresentazione di Peter è un po’ fittizio ma decente ma la trama era buona. È un paio di colpi di scena esagerati. Questo design di spider-man, ammetto, è una delle mie preferite. Il ritmo è niente male nonostante qualche inciampata, ma i combattimenti sono carucci. A proposito, alla fine come si è conclusa la storia dell’assassinio di zio Ben? 6.5/10 Show Less Show More',\n",
       " \"Effective and very entertaining reboot of Spiderman, in which Garfield and Stone's intense chemistry involve you in this world. I really enjoyed that this version emphasized more on the characters emotion, it brings a new level of emotional depth to the film. Although, I'm not entirely happy with The Lizard as his character wasn't written really well, The Amazing Spiderman is terrific entertainment. Show Less Show More\",\n",
       " 'This movie got too much hate from Tobey Maguire fans back in the day. It’s not as good as Spider-Man 2 but easily tops 1 and 3. Show Less Show More',\n",
       " \"The Amazing Spider-Man is a very good movie and Andrew Garfield acts very well (the second best Spider-Man, I still prefer Tobey), The couple Peter and Gwen are a great match and the Lizard is an average villain, I think he's underestimated. Show Less Show More\",\n",
       " 'As for a reboot love the vision. Casting was fantastic. But the pacing and some part of the plot made it so much divisive. Show Less Show More',\n",
       " 'Siendo hoy 2024 sigue siendo una gran película como te cuenta la historia de Peter es una de las mejores este es el verdad hombre araña Show Less Show More',\n",
       " 'What a good film . It does take a while to kick up but when it does I’m always invested in the plot. The acting is also great 👍 Show Less Show More',\n",
       " 'Although this movie is a childhood movie of mine, I have since watching spider man no way home to actually now grow a likeliness to Andrew Garfield even after all these years Show Less Show More',\n",
       " 'Movie so underrated, i love it Show Less Show More',\n",
       " 'simply spectacular, the best superhero origin ever made! Show Less Show More',\n",
       " \"The untold story begins. The Amazing Spider-Man is a 2012 American superhero film based on the Marvel Comics character Spider-Man. The film was directed by Marc Webb 🕷️ The film was directed by Marc Webb Not bad, but not my favourite either 😉 It’s ok, but I feel mixed about this one 😉 I’d recommend it if you like this genre, but if not then probably give it a miss 👍🏼👎🏼 Peter Parker is an outcast high schooler abandoned by his parents as a boy, leaving him to be raised by his Uncle Ben and Aunt May. Like most teenagers, Peter is trying to figure out who he is and how he got to be the person he is today. As Peter discovers a mysterious briefcase that belonged to his father, he begins a quest to understand his parents' disappearance – leading him directly to Oscorp and the lab of Dr. Curt Connors, his father's former partner. As Spider-Man is set on a collision course with Connors' alter ego, The Lizard, Peter will make life-altering choices to use his powers and shape his destiny to become a hero. Show Less Show More\",\n",
       " 'Bit lengthy but worth watching. 7.5/10 Show Less Show More',\n",
       " 'Better than the first rami\\'s first film under-appreciated by many for being \"to early for a reboot\", but in the end did well in re-telling peter parkers story oppossed to the 2nd with its messy plot, the first does a good job of keeping exciting sequences without oerdoing it. Also unlike the second richard parkers subplot( his research on genetics) coralates and contrasts well with the mainplot. Overall a solid movie for Marc Webb. Show Less Show More',\n",
       " 'Superior to the second but not without flaws. Connors specifically. But even then, it’s not enough to take me out of what an amazing piece of art this amazing spider man is. Show Less Show More',\n",
       " 'I used to hate it just because when i was a child, but now that i have given it an opportunity, i believe this is the best characterization of spider man in the big screen, the times, the jokes, how it ends and it actually lets important people actually die in the movie and it has its effects on the real world. Great movie Show Less Show More',\n",
       " \"I'd honestly say this is better than Raimi's first Spider-Man movie. Perfect visuals, great acting from the star cast, and a pretty good plot. I just wish Sony had let Marc Webb make a completely new story instead of revisiting scenes from the 2002 movie. All in all this movie is Amazing. You should watch it. Show Less Show More\",\n",
       " '\"The Amazing Spider-Man\" swings in with Andrew Garfield perfectly embodying Spider-Man, showcasing flawless wit and web-slinging prowess. Emma Stone as Gwen Stacy is equally perfect, and their on-screen chemistry is palpable, making the romance genuinely touching. The film excels with comic accuracy, infusing humor and thrilling action scenes. It\\'s refreshing that the creators avoided rehashing Tobey Maguire\\'s trilogy, opting for different storylines and a new approach. However, the balance between Peter and Spidey feels off, as it takes too long for Spider-Man to take center stage. Garfield shines as Spider-Man, but his Peter Parker lacks the same depth, making Tobey still the superior Parker. The film’s darker tone contrasts with the comics\\' lighter vibe, leading to inconsistency. Despite these flaws, \"The Amazing Spider-Man\" remains an enjoyable ride, blending romance, action, and humor, even if it doesn\\'t quite reach the heights of its predecessors. Show Less Show More',\n",
       " \"I don't know why people say this is underrated its not. 8.3/10. Show Less Show More\",\n",
       " 'Not bad at all. Not as good as the first Spider-Man origin we got, but performances from leads take this movie to a very satisfying level. Show Less Show More',\n",
       " 'While having a much darker and grittier tone then the others, still makes this film highly enjoyable with a great new cast, a good retelling of the classic story, and impeccable chemistry with Emma stone and Andrew Garfield. Show Less Show More',\n",
       " 'It’s much better than the current series. I wish they would have continued. Show Less Show More',\n",
       " \"I loved seeing this interpretation of my favourite comic-book character—especially his cocky, immature 'heroics' early on as he grapples with new found power, the desire for revenge, and a moral conscience. I didn't find myself asking who's the better Spidey—Tobey Maguire or Andrew Garfield. I enjoyed both. It's good to see this reboot vary the flavour, while still being faithful to the original comic. One minor gripe though… Right at the climactic action scene the filmmakers seem to forget who the main character is as he desperately clings to the edge of the building… It's Spider-Man folks! Remember, that guy what sticks to buildings?! (8/7/2012) Show Less Show More\",\n",
       " \"Great cast bring so many great elements together. As a photographer I appreciate this Peter Parker's approach to capturing candid moments; he's a believable photography enthusiast with an eye for com[position and timing. Is the movie perfect? No, but there are so many great touches and character elements that should be undeniable to someone with an eye for cinema. Show Less Show More\",\n",
       " 'It’s a great movie no doubt. If the lizard was written better it could have been better than Spider-Man 2. I think they are pretty close though. Show Less Show More',\n",
       " 'Wont ever forget watching this movie when I was just 6 years old. Amazing Show Less Show More',\n",
       " 'Epic Spider-Man origin story. Better than the original in some ways. Show Less Show More',\n",
       " \"THIS is how you make a Spider-Man movie! There's real heart in the story, the visuals are stunning, and the acting is even better! Show Less Show More\",\n",
       " 'The nostalgia couldn’t get any better. Andrew, the best Spidey! Show Less Show More',\n",
       " 'Loved getting the chance to watch this back on the big screen. This movie deserved so much more love, and Andrew Garfield plays Spider-Man PERFECTLY. Show Less Show More',\n",
       " 'Had a chance to see this movie in the theater Monday night. If you are a Spidey fan and not doing SM Mondays, I urge you to go. The theater is always packed and the audience is totally into the movies. Just a wonderful experience. Show Less Show More',\n",
       " \"i didn't cared about the villian and the story it self but i do like the some things in here but i did not care about the movie. so it was a really bad movie Show Less Show More\",\n",
       " 'Who doesnt love Andrew Garfield. Show Less Show More',\n",
       " 'Amazing!! Great movie and done very well. Show Less Show More',\n",
       " 'i loved this movie as a kid so finally watching it in theaters was something else!! Show Less Show More',\n",
       " 'Amazing movie (pun intended). Andrew Garfield is the best Spiderman in my opinion. Show Less Show More',\n",
       " 'I still love it after all these years Show Less Show More',\n",
       " 'i ❤️ spider-man!! best spider-man there is!! Show Less Show More',\n",
       " 'One of the best movies I’ve ever seen in my life Show Less Show More',\n",
       " 'It was amazing. Loved it. And got a free poster 🤩🤩🤩🤩 Show Less Show More',\n",
       " 'My favorite Spider-man on the big screen again! Love the story and action. Show Less Show More',\n",
       " 'Amazing movie, but should have kept in the scenes with Curt Connor’s family. Show Less Show More',\n",
       " \"I think this is an enjoyable film. But the Lizard is not a good villian. Peter and Gwen's relationship is fantastic. But overall a good film.🙂🙂🙂🙂🙂🙂🙂😀🙂🙂🙂🙂🙂🙂🙂🙂😀😀😀😀😀😀😀🙂🙂🙂🙂🙂🙂🙂🙂🙂🙂🙂🙂🙂🙂🙂🙂🙂🙂🙂🙂🙂🙂🙂🙂🙂🙂🙂🙂🙂🙂🙂🙂🙂🙂🙂🙂🙂🙂🙂🙂🙂🙂🙂🙂🙂🙂🙂🙂🙂🙂🙂🙂🙂🙂 Show Less Show More\",\n",
       " 'One of the best adaptations of Spider-Man. Show Less Show More',\n",
       " 'La película está chida me encantó un 10/10 Show Less Show More',\n",
       " 'I’m fans the spider Man Show Less Show More',\n",
       " '#ReleaseTheWebbCut One of the best Marvel movies. Show Less Show More',\n",
       " 'Honestly....Best Spider-Man movie ever made! Show Less Show More',\n",
       " 'Awesome movie is great and the suit is amazing Show Less Show More',\n",
       " 'A Film that grew on people over time and for good reason. While Tobey Maguire delivered a great performance a decade prior, We tend to forget that Andrew Garfield is also one of the more talented actors of the 21st century. Where this movie lacks in Plot and an interesting villain that can combat the value of Spider-Man, it makes up for it with the Cast’s performances and Cinematography while providing superb quality with the action. 3.0 / 4.0 | 75% Positive Score Show Less Show More',\n",
       " 'Great retelling, enjoyed the serious tone with a small amount of humor as opposed to the constant jokes that we get with the MCU. Show Less Show More',\n",
       " \"I absolutely love Andrew Garfield's spiderman and the on-screen spark with Emma Stone's Gwen, can see why they dated. Anyhoo, quality film! Show Less Show More\",\n",
       " 'such a good movie a classis and must see. Show Less Show More',\n",
       " 'Underrated. Better than the MCU Spidey movies unless you enjoy jokes like peter tingle. Show Less Show More',\n",
       " \"Well not as good as the other Spider-Man movies (except TASM2) it's still pretty decent Show Less Show More\",\n",
       " 'The best Spider-Man movie, incredible atmosphere and acting, exciting stunts and visual effects 🔥 Show Less Show More',\n",
       " 'underrated movie. The script might be worse than Tobey spiderman 1, but amazing 1 in my opinion better than Tobey spiderman 1. Show Less Show More',\n",
       " 'Muito bom esse filme! Recomendo muito assistir ele. Esse Spider-Man é muito bom também, pode ter alguns pontos negativos, mas é um Spider-Man que poderia voltar com tudo no Sony-verso. Show Less Show More',\n",
       " 'Wow, this movie is so nice Show Less Show More',\n",
       " '2nd fav Spider-Man movie. I wish Sony would release a directors cut version. Show Less Show More',\n",
       " 'Better than every other Spider-Man from the past 10 years. Show Less Show More',\n",
       " \"Andrew Garfield. That's the review. Show Less Show More\",\n",
       " \"It's just as good as Spiderman 2002 and better than Tom's trilogy tbh. Show Less Show More\",\n",
       " 'Um grande filme, química sensacional entre Andrew Garfield e Emma Stone, vilão legal mas poderia ser melhor, fotografia bonita, frases sem impacto, cgi sensacional e bons personagens NOTA 7,7/10 Show Less Show More',\n",
       " 'La historia esta buena las escenas de acción son geniales esta película de Spider-Man es como un Remake el diseño del teje me gustó los leyes de los ojos amarillos está padre Show Less Show More',\n",
       " 'love mister garfield Show Less Show More',\n",
       " 'Great movie, great actor. Show Less Show More',\n",
       " 'My favorite of all the franchise. The cast & characters are excellent, the special effects are terrific & the plot loads of fun. Show Less Show More',\n",
       " \"The only thing amazing about this movie is that it got greenlit for a sequel that is just as bad as this one. But Sony realized their lack of success with spiderman and cancelled this iteration in favor of Tom Holland's Spider-man in the MCU. So maybe this movie does have a purpose? hmm... Show Less Show More\",\n",
       " \"Good reboot. Andrew Garfield is a good Spider-Man? I think so, but I'm not entirely sure but he's not an amazing Peter Parker, feels like a skater guy. Emma Stone is awesome and I like The Lizard and the overall plot. Spider-Man feels like more vigilante and he seems a lot more violent towards Uncle Ben's killer but just never finds him? Sure, Tobey killed Uncle Ben's killer but it wasn't pretty violent. I like this movie and I'm kind of excited for The Amazing Spider-Man 2 but I've heard its horrible. Show Less Show More\",\n",
       " 'ANDREWWWWWWW MY BABE Show Less Show More',\n",
       " 'is a good movie. although it has some problems in several categories, the visual effects are very good. Show Less Show More',\n",
       " 'Peter esta bien y como spiderman esta bien pero su traje es feo pero doctor conos me gusta pero el lagarto es feo tiene el peor plan que visto gwen están bien es un 7.7 de 10 Show Less Show More',\n",
       " \"I enjoyed this movie, but it's not very memorable. In my opinion, I think TASM 1 and 2 are the weakest Spider-Man movies of the Marvel Spider-Man films. This movie's not bad; it's just not that fun :( Show Less Show More\",\n",
       " \"He's The Amazing Spider-Man!!! Show Less Show More\",\n",
       " \"Can't even begin to explain how good this is. Show Less Show More\",\n",
       " \"This film captures some of what makes Spider-Man great, better than Sam Raimi's Trillogy did. But overall it's lacking compared to its predecessor. Andrew is great, I just wish he had better material to work with in this film. Still a fun ride and worthy of seeing. Show Less Show More\",\n",
       " 'This movie is so hard to rate for me. It came out at the perfect time for me to love it as a 9 year old. However, I recently rewatched this and found that, yes indeed, it still rocks. While yes, there are glaring story issues, the visual effects still hold up great and contains some phenomenal actors with Andrew Garfield, Emma Stone, Martin Sheen, and Sally Field. Without a doubt these Spider-Man installments have the best actors. I am not blind to the issues that these films have. However, if the studio would have given Marc Webb a little more authority over the films, they would both be held in higher regard. This film has issues, but still is a lot of fun and a solid Spider-Man adaptation. 80/100 Show Less Show More',\n",
       " 'Seemed like a bunch of scenes meshed together with no real plot. We are marvel fans- but this was hard to watch. Glad when it was over. Would never watch it again. Show Less Show More',\n",
       " 'I think that this movie has an amazing Spider-Man and an underated villian Show Less Show More',\n",
       " 'Underrated but alas forgettable with a poor use of both Andrew Garfield and Emma Stone. Show Less Show More',\n",
       " 'Stunning visuals and amazing scenes on this entire film Show Less Show More',\n",
       " \"This movie is underrated due to the fact that it launched shortly after the Rami trilogy ended (on a sour note due to the many issues with Spidernan 3s plot and pacing) as well as in the midst of arguably the best Superhero movies in the Dark Knight trilogy while also being forced to stand apart from the MCU which was in full swing at this point, pun intended. Audiences had yet to grow tired of the lighthearted no stakes MCU formula and the lead up to the Avengers and their noticable absence of Spidey in the MCU at that point all heavily influenced the reception of this film That being said going back and watching it a decade later this film is a solid 8 out of 10. The amount of character development Peter goes through in one film is the same amount it's taken for Tom Hollands version to go through in idk how many years and films since Civil War. The story in this reboot is grounded and personal. Having Gwen instead of MJ was such a huge plus and it makes me sad that we missed out on the opportunity for her to play Spider-Gwen because I know Emma Stone would have absolutely crushed that role. The web swinging in this film is some of the best, with the first person cuts mid swing and parkcore being masterfully done. I could go on and on about how well this film executed everything that makes Peter Parker spiderman, along with the sarcastic quips and sassy taunting of enemies. Honestly the film is better than anything the MCU has put out in the last two years. If Sony could somehow bring Andrew and Emma back for a spinoff with them and Miles and give us a down to earth script without the current plague of multiverse and time travel that's clearly hurting the MCUs box office draws Id be over the moon. Anyways I don't normally read reviews but saw the low scores for this film on here and IMDB and just felt compelled to write something. I dont know how you can have the cornball far from home film rated higher than the amazing spiderman. If you're a fan of Spidey I highly suggest watching this film with the power of hindsight and see for yourself. I finally understand why Andrew was upset about being cancelled mid trilogy to be replaced with Tom and the Disney kid version of Spiderman which overlooks how tragic Peter Parker life is and what makes him great is that despite all of the suffering, all of the trauma, the man puts on a smile and tries to save the day so that others don't have to suffer like he has. That's Spider-Man. Show Less Show More\",\n",
       " 'No está mal la película está entretenida na más que no me gusta el diseño del traje pero me gusto Show Less Show More',\n",
       " 'Andrew Garfield is an excellent Spider-Man and this film proves that in a flashy, entertaining way. It may not cover a lot of new ground in terms of plot, but it is still a very fun watch, mostly thanks to Garfield. Show Less Show More',\n",
       " 'Even though the overall plot did resemble the Raimi Trilogy, it was interesting to witness it from a different angle and viewpoint. This movie is more serious and has a darker ambiance than the Raimi trilogy, which is lighter in tone. In a similar vein, Andrew Garfield is a more serious Spider-Man than Tobey Maguire. Show Less Show More',\n",
       " 'Andrew Garfield gets hate for no reason! But while i like the Lizard and parts of this movie, the plot glosses over major points and Emma Stone just is not a good Gwen Stacy Show Less Show More',\n",
       " 'It was a spider man movie that dragged for over an hour and had barely enough good scenes and the writing I would want.Definitely not amazing, compared to some other Spider-Man movies. Show Less Show More',\n",
       " '\"The Amazing Spiderman\" is a beautifully articulated film that mimics the first Spiderman, portrayed by Toby Mcguire. This film has an amazing cast, including Andrew Garfield and Emma Stone, that depicts the story very well. This story is centered around an ordinary boy that gets bitten by a radioactive spider, and his life changes and is swept from under his feet. He must adjust very well to this new situation, with bumps across the road, including a core scene of his uncle Ben passing away. He accumulates to this spiderbite and soon learns how to use his powers for the good and defeat the villains in New York City, all while a beautiful love story between him and Gwen Stacy is intertwined. The way the cast articulates the story is amazing, it\\'s a very good take on the original Spiderman. The cast works well together, and I feel as if they bounce off each other\\'s energy naturally, and that really adds to the movie. The costumes in the movie are very natural and normal, I loved the spiderman costume as well. The soundtrack intertwines with the movie very well and adds suspension and thrill. The character development, especially throughout the three movies, is apparent. An array of the plot points do match up with the original Spiderman, but that\\'s for a reason. There are a multitude of staples that need to happen in order for the Spiderverses to match up accordingly. Overall, this movie is an amazing watch and I highly recommend it. Show Less Show More',\n",
       " 'E muito bom muito bom eu gostei curti bastante e um filme muito bom o lagarto e um bom vilão Andrew Garfield e um ótimo ator gostei Show Less Show More',\n",
       " 'My least favorite super hero movie ever. The sequel is slightly better. Show Less Show More',\n",
       " 'The Amazing Spiderman offers nothing groundbreaking for Spiderman but keeps enough energy with a pleasing cast to be an enjoyable watch. Show Less Show More',\n",
       " 'Simply Amazing Best live action portrayal of Peter Parker Suit 9.5/10 Action 7/10 Acting 10/10 Music 10/10 Show Less Show More',\n",
       " 'Nose porque a la gente no le gusta Andrewl Garfield, tampoco entiendo porque odian está saga Show Less Show More',\n",
       " \"This series is seriously underrated! There's Gwen Stacy, Flash Thompson, The Lizard with his plot to turn the entire city into reptilian mutants, but spider man stops him. Uncle Ben dies, as well as Gwen Stacy's dad, and Curt Connors goes to jail, which kind of sets up the plot for the next movie. This was an awesome movie. Show Less Show More\",\n",
       " \"Despite it's dreary screen filters, The Amazing Spider-Man is surprisingly a good movie, Andrew Garfield fits the role of Spider-Man to a T, he's funny, he's a wiseass and has a good heart & now that I think about it, this movie has a very good story, how they actually portray Pete as a humble teenager whose trying it through life before coming Spider-Man & every other character is likable. If I do have one nitpick & that's the design of Lizard, he comes across as a alligator instead of a actual Lizard but that's a minor nitpick but other than that, The Amazing Spider-Man is a very good movie with a good heart. Show Less Show More\",\n",
       " 'Just great, funny and amazing spider-man. Show Less Show More',\n",
       " 'Filme é bom sim!!! Melhor que os atuais tirando o no way home!! Show Less Show More',\n",
       " 'muito subestimado 🙏🏻🙏🏻 Show Less Show More',\n",
       " 'Very good. Garfield is excellent. So is the reptile CG and Rhys. I wish the story could have had more tension and excitement, but it’s still quite solid. This is one of those movies that gets better with each viewing. And Garfield should have been cast for more than 2 Spider-Man movies, he fits the part so well. Show Less Show More',\n",
       " \"Finally. A Spider-Man movie that shows a dark side to Peter Parker. This is what us fans wanted to see. Exactly a Batman tone of Spider-Man. Personally, I feel like this movie didn't do it well though. I feel like Garfield's best scenes only lie with his life and love life. Show Less Show More\",\n",
       " \"Best live action *Spider-Man* to date, love watching just for Garfield's performance <3 Show Less Show More\",\n",
       " \"I just don't enjoy the Andrew Garfield Spider-Man duology. Boring and not comic accurate. 2.3/10 Show Less Show More\",\n",
       " \"This movie does a lot good and bad. The whole plot about peters parents is stupid and pointless and the movie doesn't seem to get good until after uncle Ben dies. When Peter first starts as being Spider-Man he was a bad guy and wasn't like the Spider-Man from the comics. I was pleased with the way they handled the lizard he was definitely one of the better parts in the movie. The things Peter does when he first gets his powers is so weird. Some scenes just shouldn't have been in the movie. The way uncle Ben died was so stupid and avoidable and the way Peter makes it so obvious he is Spider-Man is a little weird to me. I liked the final fight scene a lot more than when Peter was just beating up random people. Overall I think Andrew Garfield did a good job portraying Spider-Man despite having not been given the best script. Overall I would give it 6.5/10 Show Less Show More\",\n",
       " 'Boring, bad, and pointless, The Amazing Spider Man is a prime example of a horrible reboot. Show Less Show More',\n",
       " 'Not as good as the Raimi origin, but a fun time. Show Less Show More',\n",
       " 'Not great, not horrible. Show Less Show More',\n",
       " '7/10 La verdad que cuando salió la gente decía que era muy mala, pero habiéndole dado una oportunidad hoy, me ha parecido entretenida, y la verdad que la trama principal de cómo se convierte en Spiderman y la del tío Ben me parece mucho más coherente y mejor llevada que en la trilogía original. Show Less Show More']"
      ]
     },
     "execution_count": 111,
     "metadata": {},
     "output_type": "execute_result"
    }
   ],
   "source": [
    "get_movie_reviews(movie_name)"
   ]
  },
  {
   "cell_type": "code",
   "execution_count": 115,
   "id": "53b4b926-c9f3-4ef7-b392-d6f2959ca44c",
   "metadata": {},
   "outputs": [],
   "source": [
    "def get_movie_id_critic(movie_name):\n",
    "    metacritic_api_url = \"https://online-movie-database.p.rapidapi.com/auto-complete\"\n",
    "    querystring = {\"q\":movie_name}\n",
    "    response = requests.get(metacritic_api_url, headers=HEADERS, params=querystring)\n",
    "    response = response.json()\n",
    "    for i in response['d']:\n",
    "        if i['l'].lower() in movie_name:\n",
    "            return i\n",
    "        else:\n",
    "            continue\n",
    "    return \"\""
   ]
  },
  {
   "cell_type": "code",
   "execution_count": 117,
   "id": "03017efe-e6c5-44b9-ad1e-c07664ce1e59",
   "metadata": {},
   "outputs": [],
   "source": [
    "def get_movie_plot(movie_id):\n",
    "    plot_url = \"https://online-movie-database.p.rapidapi.com/title/v2/get-plot\"\n",
    "    querystring = {\"tconst\":movie_id}\n",
    "    response = requests.get(plot_url, headers=HEADERS, params=querystring)\n",
    "    response = response.json()\n",
    "    try:\n",
    "        val = response['data']['title']['plot']['plotText']['plainText']\n",
    "        return val\n",
    "    except:\n",
    "        return \"\""
   ]
  },
  {
   "cell_type": "code",
   "execution_count": 119,
   "id": "57b5fda0-be4c-4906-b89f-6de20acdfc23",
   "metadata": {},
   "outputs": [],
   "source": [
    "def parse_ratings_res(response):\n",
    "    try:\n",
    "        country = response['data']['title']['releaseDate']['country']['id']\n",
    "        day = response['data']['title']['releaseDate']['day']\n",
    "        month = response['data']['title']['releaseDate']['month']\n",
    "        year = response['data']['title']['releaseDate']['year']\n",
    "        release_date = f\"{day}/{month}/{year}\"\n",
    "        ratings = response['data']['title']['ratingsSummary']['aggregateRating']\n",
    "        total_votes = response['data']['title']['ratingsSummary']['voteCount']\n",
    "        return {'country': country, 'release_date': release_date, 'ratings': ratings, 'total_votes':total_votes}\n",
    "    except:\n",
    "        return \"\""
   ]
  },
  {
   "cell_type": "code",
   "execution_count": 121,
   "id": "c843fb79-3913-43b7-8f4c-4b3a5ced01f0",
   "metadata": {},
   "outputs": [],
   "source": [
    "def get_movie_ratings(movie_id):\n",
    "    rating_url = \"https://online-movie-database.p.rapidapi.com/title/v2/get-ratings\"\n",
    "    querystring = {\"tconst\":movie_id}\n",
    "    response = requests.get(rating_url, headers=HEADERS, params=querystring)\n",
    "    response = response.json()\n",
    "    return parse_ratings_res(response)"
   ]
  },
  {
   "cell_type": "code",
   "execution_count": 123,
   "id": "32f6bcf3-2c75-4b9d-990a-47759fdf9c44",
   "metadata": {},
   "outputs": [],
   "source": [
    "def get_revs_res(response):\n",
    "    reviews = []\n",
    "    for i in response['reviews']:\n",
    "        reviews.append(i['reviewText'])\n",
    "    return reviews"
   ]
  },
  {
   "cell_type": "code",
   "execution_count": 125,
   "id": "a2e05c5f-341e-4484-8eca-1d910af30d4e",
   "metadata": {},
   "outputs": [],
   "source": [
    "def get_movie_reviews_critic(movie_id):\n",
    "    reviews_url = \"https://online-movie-database.p.rapidapi.com/title/get-user-reviews\"\n",
    "    querystring = {\"tconst\":movie_id}\n",
    "    response = requests.get(reviews_url, headers=HEADERS, params=querystring)\n",
    "    response = response.json()\n",
    "    return get_revs_res(response)"
   ]
  },
  {
   "cell_type": "code",
   "execution_count": 127,
   "id": "4d97e115-c9c6-4cad-a61c-d14332a30ffe",
   "metadata": {},
   "outputs": [],
   "source": [
    "def get_movie_details(movie_name):\n",
    "    id_dict = get_movie_id_critic(movie_name)\n",
    "    img_url = id_dict['i']['imageUrl']\n",
    "    name = id_dict['l']\n",
    "    id = id_dict['id']\n",
    "    plot = get_movie_plot(id)\n",
    "    rating_dict = get_movie_ratings(id)\n",
    "    reviews = get_movie_reviews_critic(id)\n",
    "    movie_details = {'id': id, 'plot': plot, 'reviews':reviews, 'image':img_url, 'name':name}\n",
    "    for i in rating_dict:\n",
    "        movie_details[i] = rating_dict[i]\n",
    "    return movie_details"
   ]
  },
  {
   "cell_type": "code",
   "execution_count": 129,
   "id": "d9d5ef00-48e3-42be-b2bb-3fdd3d2cdd35",
   "metadata": {},
   "outputs": [],
   "source": [
    "def get_movie_details_overall(movie_name):\n",
    "    temp = get_movie_details(movie_name)\n",
    "    revs_list = get_movie_reviews(temp['name'].lower().replace(\" \", \"_\"))\n",
    "    temp['reviews'] += revs_list\n",
    "    return temp"
   ]
  },
  {
   "cell_type": "code",
   "execution_count": 131,
   "id": "2188bf25-d5d1-4df2-9eb7-771fae0291ce",
   "metadata": {
    "scrolled": true
   },
   "outputs": [],
   "source": [
    "movie_details = get_movie_details(\"pulp fiction\")"
   ]
  },
  {
   "cell_type": "code",
   "execution_count": 133,
   "id": "2a8278ef-baea-4005-8bac-b49e2e5b27cb",
   "metadata": {},
   "outputs": [
    {
     "data": {
      "text/plain": [
       "{'id': 'tt0110912',\n",
       " 'plot': 'The lives of two mob hitmen, a boxer, a gangster and his wife, and a pair of diner bandits intertwine in four tales of violence and redemption.',\n",
       " 'reviews': ['One of the early scenes in \"Pulp Fiction\" features two hit-men discussing what a Big Mac is called in other countries. Their dialogue is witty and entertaining, and it\\'s also disarming, because it makes these two thugs seem all too normal. If you didn\\'t know better, you might assume these were regular guys having chit-chat on their way to work. Other than the comic payoff at the end of the scene, in which they use parts of this conversation to taunt their victims, their talk has no relevance to anything in the film, or to anything else, for that matter. Yet without such scenes, \"Pulp Fiction\" wouldn\\'t be \"Pulp Fiction.\" I get the sense that Tarantino put into the film whatever struck his fancy, and somehow the final product is not only coherent but wonderfully textured.\\n\\nIt\\'s no wonder that fans spend so much time debating what was in the suitcase, reading far more into the story than Tarantino probably intended. The film is so intricately structured, with so many astonishing details, many of which you won\\'t pick up on the first viewing, that it seems to cry out for some deeper explanation. But there is no deeper explanation. \"Pulp Fiction,\" is, as the title indicates, purely an exercise in technique and style, albeit a brilliant and layered one. Containing numerous references to other films, it is like a great work of abstract art, or \"art about art.\" It has all the characteristics we associate with great movies: fine writing, first-rate acting, unforgettable characters, and one of the most well-constructed narratives I\\'ve ever seen in a film. But to what end? The self-contained story does not seem to have bearing on anything but itself.\\n\\nThe movie becomes a bit easier to understand once you realize that it\\'s essentially a black comedy dressed up as a crime drama. Each of the three main story threads begins with a situation that could easily form the subplot of any standard gangster movie. But something always goes wrong, some small unexpected accident that causes the whole situation to come tumbling down, leading the increasingly desperate characters to absurd measures. Tarantino\\'s originality stems from his ability to focus on small details and follow them where they lead, even if they move the story away from conventional plot developments.\\n\\nPerhaps no screenplay has ever found a better use for digressions. Indeed, the whole film seems to consist of digressions. No character ever says anything in a simple, straightforward manner. Jules could have simply told Yolanda, \"Be cool and no one\\'s going to get hurt,\" which is just the type of line you\\'d find in a generic, run-of-the-mill action flick. Instead, he goes off on a tangent about what Fonzie is like. Tarantino savors every word of his characters, finding a potential wisecrack in every statement and infusing the dialogue with clever pop culture references. But the lines aren\\'t just witty; they are full of intelligent observations about human behavior. Think of Mia\\'s statement to Vincent, \"That\\'s when you know you\\'ve found somebody special: when you can just shut the f--- up for a minute and comfortably enjoy the silence.\"\\n\\nWhat is the movie\\'s purpose exactly? I\\'m not sure, but it does deal a lot with the theme of power. Marsellus is the sort of character who looms over the entire film while being invisible most of the time. The whole point of the big date sequence, which happens to be my favorite section of the film, is the power that Marsellus has over his men without even being present. This power is what gets Vincent to act in ways you would not ordinarily expect from a dumb, stoned gangster faced with an attractive woman whose husband has gone away. The power theme also helps explain one of the more controversial aspects of the film, its liberal use of the N-word. In this film, the word isn\\'t just used as an epithet to describe blacks: Jules, for instance, at one point applies the term to Vincent. It has more to do with power than with race. The powerful characters utter the word to express their dominance over weaker characters. Most of these gangsters are not racist in practice. Indeed, they are intermingled racially, and have achieved a level of equality that surpasses the habits of many law-abiding citizens in our society. They resort to racial epithets because it\\'s a patter that establishes their separateness from the non-criminal world.\\n\\nThere\\'s a nice moral progression to the stories. We presume that Vincent hesitates to sleep with Mia out of fear rather than loyalty. Later, Butch\\'s act of heroism could be motivated by honor, but we\\'re never sure. The film ends, however, with Jules making a clear moral choice. Thus, the movie seems to be exploring whether violent outlaws can act other than for self-preservation.\\n\\nStill, it\\'s hard to find much of a larger meaning tying together these eccentric set of stories. None of the stories are really \"about\" anything. They certainly are not about hit-men pontificating about burgers. Nor is the film really a satire or a farce, although it contains elements of both. At times, it feels like a tale that didn\\'t need to be told, but for whatever reason this movie tells it and does a better job than most films of its kind, or of any other kind.',\n",
       "  'I like the bit with the cheeseburger. It makes me want to go and get a cheeseburger',\n",
       "  \"Possibly the most influential movie made in history since the first movie ever made .Even after 25 years and a countless number of copy cats this movie absolutely holds up and feels fresh.\\n\\nAs many of you would know this movie is sort of like a tribute to the pulp stories written back in the 40s and 50s which have punchy and witty dialogue and over the top violence. The random chit chat between characters regarding obscure things might feel a waste of time as it doesn't move the plot. But Tarantino is a genius and he believes in character development more than plot development so these chats actually humanizes the characters a lot and makes them relatable and memorable(The absolute converse of Nolan). This movie is just a collection of wonderful scenes back to back from start to finish.. The movie is a must watch just for the awesome screenplay alone. To top it off all the actors arguably give their career best performance(think about it ,it is true) . And the ability of Tarantino to just create a really tense or ridiculous situation out of nowhere(like the psycho tribute scene with marsellus and butch which is so unexpected or that adrenaline shot scene) is just awesome and keeps you on the edge of your seats .\\n\\nSo if you want an entertaining but clever movie this is the one you are looking for . It is funny, filled with some of the best dialogues ever ,superbly acted, great soundtracks(I just wanna see Tarantino's ipod , boy does he have great taste) and is just a spectacular experience.\\n\\nSpoilers ahead(duh): For those of you who say the characters are hollow I suggest you to revisit the gold watch sequence. Walken's Capt Koons tells a story to young butch about how Butch's grandpa requested an enemy soldier to return his watch to his family and the soldier agreed. Similarly Butch could have left Marsellus but the legacy of his watch made him save him which I believe was a nice touch. And how Jules(one of my characters of all time) undergoes a change is also a noteworthy counter argument to the above mentioned criticism.\\n\\nSorry for the huge review..\",\n",
       "  \"This is Tarantino's masterpiece, there's no other way to say it. It has arguably one of the smartest scripts I've ever seen. The story, which is non-linear, is so well constructed it takes several viewings to grasp it all. The movie doesn't seem to be about any spesific thing, but there is a subtle hint of redemption as a central theme. The characters and preformances in this movie are practically perfect. This is still one of the best performances I've seen from Sam Jackson, and it's an outrage he didn't win an Oscar. Each scene has its own unique flavour and charm, every segment has its own arc while also tying into the main plot. The comedy is great, the serious moments are great, every word of dialogue is exciting despite seemingly not having any reason to exist. This movie is just such a great time, and I recommend it to everyone who loves movies. I cannot think of a single genuine flaw with it, and it will remain one of my favorite movies for a long time.\",\n",
       "  'I can only speak for myself, but I had never seen anything as stylish, cleverly constructed, well written and electrifying as this milestone when I first saw it in 1994. What really pulled me in right from the start is what we\\'ve now come to know as a Tarantino trademark: the dialogue. When gangsters Jules and Vincent talk to each other (or all the other characters, for that matter) there is a natural flow, a sense of realism and yet something slightly over the top and very theatrical about their lines – it\\'s a mixture that immediately grabs your attention (even if it\\'s just two dudes talking about what kind of hamburger they prefer, or contemplating the value of a foot-massage). Then there\\'s the music: the songs Tarantino chose for his masterpiece fit their respective scenes so perfectly that most of those pieces of music are now immediately associated with \\'Pulp Fiction\\'. And the narrative: the different story lines that come together, the elegantly used flashbacks, the use of \"chapters\" – there is so much playful creativity at play here, it\\'s just a pure joy to watch.\\n\\nIf you\\'re a bit of a film geek, you realize how much knowledge about film and love for the work of other greats – and inspiration from them - went into this (Leone, DePalma, Scorsese and, of course, dozens of hyper-stylized Asian gangster flicks), but to those accusing Tarantino of copying or even \"stealing\" from other film-makers I can only say: There has never been an artist who adored his kind of art that was NOT inspired or influenced by his favorite artists. And if you watch Tarantino\\'s masterpiece today, it\\'s impossible not to recognize just what a breath of fresh air it was (still is, actually). Somehow, movies - especially gangster films - never looked quite the same after \\'Pulp Fiction\\'. Probably the most influential film of the last 20 years, it\\'s got simply everything: amazing performances (especially Sam Jackson); it features some of the most sizzling, iconic dialogue ever written; it has arguably one of the best non-original soundtracks ever - it\\'s such a crazy, cool, inspirational ride that you feel dizzy after watching it for the first time. It\\'s – well: it\\'s \\'Pulp Fiction\\'. 10 stars out of 10.\\n\\nFavorite films: http://www.IMDb.com/list/mkjOKvqlSBs/\\n\\nLesser-known Masterpieces: http://www.imdb.com/list/ls070242495/\\n\\nFavorite TV-Shows reviewed: http://www.imdb.com/list/ls075552387/',\n",
       "  \"Pulp Fiction is the most original, rule breaking film I have ever seen. Instead of following the widely used 3 act structure, Pulp Fiction makes up its own and while the 3 stories may seem completely disconnected at first, once you look closely you can find the underlying themes that they all share. Anyone who says that the movie lacks focus or has no meaning hasn't analysed enough. I highly recommend this film since it is number one on my list of my favourite movies of all time.\",\n",
       "  'Before I saw this I assumed it was probably overrated. I was wrong. It lives up to and surpasses its reputation in pretty much every way. I would definitely recommend.',\n",
       "  \"To put this in context, I am 34 years old and I have to say that this is the best film I have seen without doubt and I don't expect it will be beaten as far as I am concerned. Obviously times move on, and I acknowledge that due to its violence and one particularly uncomfortable scene this film is not for everyone, but I still remember watching it for the first time, and it blew me away. Anyone who watches it now has to remember that it actually changed the history of cinema. In context- it followed a decade or more of action films that always ended with a chase sequence where the hero saved the day - you could have written those films yourself. Pulp had you gripped and credited the audience with intelligence. There is not a line of wasted dialogue and the movie incorporates a number of complexities that are not immediately obvious. It also resurrected the career of Grease icon John Travolta and highlighted the acting talent of Samuel L Jackson. There are many films now that are edited out of sequence and have multiple plots etc but this is the one they all want to be, or all want to beat, but never will.\",\n",
       "  'Just the best movie... I can imagine my family seeing this movie in 30 years. I really love this movie and his soundtrack.',\n",
       "  'If you think \"Pulp Fiction\" is brilliant, you\\'re wrong. It\\'s more than that. It\\'s a milestone in the history of film making. It\\'s already a classic. But why? Because of the many \"f\" words, or maybe because of the brain and skull pieces on the rear window of a car? No, that\\'s surely not the point (unfortunately some other users - fortunately the minority - don\\'t get it). Tarantino has made a movie that\\'s someway different from many other action, gangster or crime movies. What\\'s so different? He knows the subject of the movie is \"cool\", he knows it\\'s a product of mass culture, and he even likes it by himself. But he smiles at it and tells three great stories with a lot of irony. And this irony is the first point. The second point is that he gave souls to extremely schematic characters. They surely aren\\'t another action heroes who you forget as fast as you can twinkle. They are human beings like we are, talking about Burger King and McDonalds, about TV series and a foot massage. They just earn their money with killing others or selling drugs. What else is so great about \"Pulp Fiction\"? It\\'s the acting, the directing, the cinematography, the soundtrack, the sense of humour and the whole rest. In my opinion it\\'s all worth nothing less than a 10 out of 10. A masterpiece.',\n",
       "  \"I don't get as much out of Pulp Fiction as everybody else does. I don't like that it doesn't have a strong message, I think the dialogue goes on self-impressed tangents some times and the Mia Wallace story doesn't tie in with the rest of the film and it just isn't that interesting to me. However, that doesn't mean I don't appreciate its style. The entire film from the costume design, to the camera work, to the setting of LA are dripping with noir atmosphere. The writing, while it does jerk itself off at times, is still pretty memorable and enjoyable to listen to. The acting is fantastic all around, getting especially good performances from Samuel L Jackson, John Travolta and Bruce Willis.\\n\\nWhile I don't think its a masterpiece, it is something fun to watch if you're looking for something different and intriguing.\",\n",
       "  'My oh my.  \"Pulp Fiction\" is one of those roller-coasters of a movie.  It is both a joy and a trial to sit through.  Amazingly original and unforgettable, Quentin Tarantino\\'s trash masterpiece never gets old or seem outdated.  It put a face on American independent film making in 1994. Miramax had been around since the 1970s and no one had heard of it before this film.  Studios went into a panic when this film came out because they knew it would be an amazing hit.  Of course it was.  Independent film making became the rage and hit its peak in 1996 when four of the five nominated Best Picture films were from independent studios.  The screenplay and direction by Tarantino are quite amazing, but the cast makes the film work. John Travolta (Oscar nominated) re-invented his career with this film. Bruce Willis cemented his celebrity.  Samuel L. Jackson and Uma Thurman (both Oscar nominees) became marketable superstars.  Others who make appearances include: Ving Rhames, Christopher Walken, Eric Stoltz, Rosanna Arquette, Steve Buscemi, Frank Whaley, Harvey Keitel, and of course Quentin Tarantino himself.  They all leave lasting impressions as well.  Samuel L. Jackson stood out the most to me, his lack of substantial screen time may have cost him the Oscar.  Just an amazing accomplishment, all involved deserve recognition.  Easily 5 stars out of 5.',\n",
       "  \"I don't understand why this is the 8th highest rated movie of all time. I saw how highly rated it was so decided to watch it. After the first half an hour I found it enjoyable but my mind wasn't blown. As the movie continued I kept waiting for something to happen that warrants its 8.9 stars. Nothing actually happens in this movie. I hope its just me because through my eyes its the most overrated movie of all time.\",\n",
       "  'Perhaps before I start talking about why I think Pulp Fiction works on so many levels, I should mention briefly how I came to watch the film. Pulp Fiction was a film I had heard of at a very young age, and I\\'m not quite sure why. I had also wanted to see it for a very long time- again, I\\'m not quite sure why. Maybe the mere fact that it was R-rated and notorious for its violence perked the interest of my 14-year-old self. Nevertheless, I got round to watching it about a month before my 15th birthday- incredibly late at night on an occasion where I found myself home alone. I recall being blown away by the film, but also somewhat overwhelmed and confused. I had never seen anything like it before, and walked away from it being kinda sure I\\'d enjoyed it. I couldn\\'t say for sure though.\\n\\nStill feeling curious about the film, and the many mysteries relating to it that I\\'d failed to determine on my first viewing, I re-watched the film just a couple of months later. And something just clicked for me- I fell in love with the film. Everything about the movie suddenly worked for me, and I found the second viewing to be perhaps the shortest two and a half hours of my life I\\'ve ever experienced. My own sense of time was warped and bended to the extent that it was in the film itself. That very night it somehow became one of the greatest things I had ever watched; one of the only films I\\'d seen that I barely hesitated to call a masterpiece.\\n\\nSince then I\\'ve watched it another six or seven times- almost once a year- and I continue to feel motivated to watch it because I honestly feel like I get something new out of it each time I watch it.\\n\\nSpoilers ahead, by the way. I plan to get fairly in-depth with my review of this movie, so just a warning for those that haven\\'t seen it.\\n\\nOne of the great things about Pulp Fiction is its refusal to fall under any particular genre or category of movies. It feels like a comedy when Jules and Vince discuss fast food and foot massages for nearly ten minutes It feels like a thriller during several segments, notably the scene where Mia overdoses on heroin and the climactic Mexican stand-off in the restaurant- two sequences that would have even Alfred Hitchcock on the edge of his seat. The crime genre is represented through the character\\'s actions- most of the cast are criminals in one way or another, whether they murder, steal, or take generous helpings of class-A drugs. The infamous gimp scene feels straight out of a horror movie.\\n\\nThis collage of various movie genres is one of the things that makes the movie stand out- by themselves, certain scenes may feel familiar, but when they\\'re all blended together so well like they are in Pulp Fiction, the end product ends up feeling unique. This is true for most of Quentin Tarantino\\'s films- he borrows elements from different genres, and homages/ references dozens of older movies in order to create something that feels unique, even if most of the individual elements themselves aren\\'t too original. I can see why some people may not be a fan of the fact Tarantino essentially steals from the lesser known works of those who came before him, but for me, I love it- I think he just makes it work due to the fact that his encyclopaedic knowledge of film allows him to borrow from so many sources. If he simply referenced about a half dozen or less films for each one of his movies, then I think that would start to feel like plagiarism.\\n\\nNow, I could go on about the acting, the screenplay, the direction, and the glorious soundtrack, but really, what\\'s there to say about these elements of the film that haven\\'t already been said? Tarantino\\'s screenplay is one of the most acclaimed and quoted from the past couple of decades, and deservedly won him his first Oscar. His direction has been similarly praised, and the soundtrack has become iconic- most impressive of all is that Tarantino chose music that goes so well with the images they accompany. And yes, the acting is phenomenal- the film features what is almost certainly Samuel L. Jackson\\'s best performance, one of Bruce Willis\\' most interesting performances of his long and successful career, and some great work from Uma Thurman. Even the supporting actors are memorable, including Harvey Keitel, Tim Roth, and Ving Rhames as Marsellus Wallace (who\\'s arguably the film\\'s main character- think about it; without him, none of the three main stories would exist- Butch ripped off Marsellus Wallace, Vince took out Wallace\\'s girlfriend on a date that eventually went horribly wrong, and Vince and Jules were assigned to retrieve the mysterious briefcase for Wallace). And of course, who can forget that Pulp Fiction single-handedly made John Travolta cool again- an absolutely monumental achievement. Of course Travolta did eventually succeed in making himself a joke again a few years later when he made Battlefield Earth, but that\\'s another story (or perhaps better left for another review)?\\n\\nAs I said, I could indulge in commenting on these areas of the film, but if you\\'ve seen the movie you probably already know how good they are. Pulp Fiction is also one of the most discussed film\\'s of the past 20 years, so you\\'ve likely already come across reviews or rabid Tarantino fans who\\'ve gushed about why the film works so well, and how fantastic all the various components of the film are.\\n\\nSo instead, I\\'m going to backtrack back to my point about seeing something new in the film upon every new viewing, and explain what I took away from the movie on my most recent viewing.\\n\\nPulp Fiction was always controversial for its violence, with some criticising its depiction of assaults, shootings, beatings, and exploding heads. But for me, I found the film to have an almost anti-violence message of sorts, and I only realised this on my most recent viewing. Now bear with me, because I know that sounds like a somewhat ridiculous claim, but I have my reasons. Pulp Fiction may be violent, but it doesn\\'t promote violence. Sure, the violence may be somewhat stylised and at times over the top, but that doesn\\'t mean the film is saying that violence is something trivial. Violent acts in the film are often shown to have consequences for those that commit them. Vince\\'s carelessness with his gun- an instrument of violence- causes Marvin\\'s head to be blown off in the backseat of Jules\\' car, which leads to a near twenty minute detour in which they must take the car to Jimmy\\'s house and consult \"The Wolf\" to assist them in cleaning the car and disposing of the gory evidence. Marsellus\\' desire to get revenge on Butch by presumably killing him leads them both to the basement of the rednecks- indeed, they are both fighting each other in the redneck\\'s store when they are taken captive.\\n\\nBut in the climax of the film, where guns are being pointed at several characters in the middle of a tense Mexican stand-off, not a single bullet is fired. One would expect the tension to be eventually broken and the bullets to start flying, especially if one has seen some of Taratino\\'s other movies that end in explosive and violent climaxes (see Reservoir Dogs, Inglorious Basterds, Death Proof, Django Unchained, and Kill Bill Volume 1). But instead, Jules, who we\\'ve seen to be ruthless and unafraid to kill earlier in the movie, believes himself to be a changed man after miraculously surviving a hail-storm of bullets from a criminal that looks a little like Jerry Seinfeld and so instead decides to defuse the situation peacefully. He talks down Pumpkin and Honey-Bunny from killing or robbing anyone, and insists that his dim-witted associate Vince refrain from hurting anyone too. He delivers an absolutely stunning monologue where he ponders the bible reading he quoted so confidently earlier in the movie, and it\\'s damn-near poetic. It sends a shiver up my spine every time I watch that scene, and indeed, Jules\\' speech works. The two robbers get up after Jules gives them some money from his famous wallet, and then leave. Jules and Vince do the same a few moments later.\\n\\nNot a shot is fired. No one is killed. It\\'s an absolutely beautiful scene.\\n\\nIt may have been tempting for Tarantino to give the film a \"Wild Bunch-esque\" ending, but instead he refrained, and I\\'m glad he did so. The climax to Pulp Fiction is absolutely stunning- fifteen minutes of tension, almost poetic dialogue, and brilliant acting, especially from Samuel L. Jackson. And it took me seven viewings just to notice how beautifully peaceful the ending of the film was. And that\\'s why it\\'s my favourite film of all time- I get new meaning from it, or appreciate different areas of it every-time I watch it.\\n\\nIf you\\'ve never seen Pulp Fiction before, I implore you to go watch it. And if you have seen Pulp Fiction before, I implore you to go watch it again.',\n",
       "  \"Viewers are taken on a ride through three different stories that entertwine together around the world of Marcellus Wallace. Quentin Tarantino proves that he is the master of witty dialogue and a fast plot that doesn't allow the viewer a moment of boredom or rest. From the story of two hit-man on a job, to a fixed boxing match to a date between a hit-man and the wife of a mob boss. There was definitely a lot of care into the writing of the script, as everything no matter the order it is in, fits with the story. Many mysteries have been left such as what is inside of the briefcase and why Marcellus Wallace has a band-aid on the back of his neck, which may be connected. The movie redefined the action genre and reinvigorated the careers of both John Travolta and Bruce Willis. This movie is required viewing for any fan of film.\",\n",
       "  \"Pulp Fiction may be the single best film ever made, and quite appropriately it is by one of the most creative directors of all time, Quentin Tarantino. This movie is amazing from the beginning definition of pulp to the end credits and boasts one of the best casts ever assembled with the likes of Bruce Willis, Samuel L. Jackson, John Travolta, Uma Thurman, Harvey Keitel, Tim Roth and Christopher Walken. The dialog is surprisingly humorous for this type of film, and I think that's what has made it so successful. Wrongfully denied the many Oscars it was nominated for, Pulp Fiction is by far the best film of the 90s and no Tarantino film has surpassed the quality of this movie (although Kill Bill came close). As far as I'm concerned this is the top film of all-time and definitely deserves a watch if you haven't seen it.\",\n",
       "  \"This is my favorite film of all time. Every second of this film is engaging, and I'm not exaggerating when I say that. Tarantino's direction and script is brilliant, and every role is perfectly cast. Everything that happens in this movie has a purpose, and you don't realize it's hidden in plain sight until the final moments\",\n",
       "  \"It took fifteen years and a subscription to Netflix to finally get around to seeing this film. It was well worth the wait. If all one were to see is the byplay between Samuel L. Jackson and John Travolta, it would be worth the price of admission. But this is only part of the incredible effect this film has. I don't even like gore in movies; I avoid it. But Tarentino weaves a culture of violence where there is actual humanity. We care about these bad guys. There is scene after scene of people being pushed to the limit. The very idea that the boxer, played by Bruce Willis, would risk everything to retrieve a watch that has been transported on two occasions, shove up someone's ass, is amazing. And very, very funny. I can't begin to list all the wonderful scenes. The opening dialogue is incredible as Trovolta and Jackson are on their way to do a hit. They have virtually no respect for human life, yet they, themselves, are very human. The date scene with Uma Thurman with the adrenaline shot. The crazy's in the pawn shop. And, the effort to clean up the car after blowing away a kid in the back seat, the issue being that a guys wife would come home and be very unhappy to find a dead body and a blood filled car in the garage. It sounds horrible and makes me sound sick. I found Fargo to be a hilarious film as well. Is there something wrong with me?\",\n",
       "  \"One of the best movies I have ever seen is a fun and enjoyable story, as most of the film's characters were excellent, and it brought back the character of Butch and his girlfriend, Vincent was the best character and his death was shocking and I did not. Expect that, the interconnectedness of the film's stories was excellent, the direction in the film was excellent The film, the acting in the movie was very cool, I recommend it, and it is the best film by Quentin Tarantino\",\n",
       "  \"I heard so many people claim that this movie is a masterpiece and it also has high ratings. So I was intrigued to give it a go. I didn't get much enjoyment out of it. Maybe you have to watch it multiple times to enjoy it. As for the first viewing it didn't satisfy me.\",\n",
       "  'Tarantino is without a doubt one of the best directors of all time and maybe the best of the 90\\'s. His first film, Reservoir Dogs was amazing and claustrophobic, his segment in Four Rooms was by far the greatest (even though Rodriguez\\'s was excellent too)and Jackie Brown is a wonderful homage to the Blaxploitation films of the 70\\'s. However, Pulp Fiction remains my favourite.\\n\\nIt was nominated for so many Oscars that I still find it hard to believe that it only got one: Best original script. I\\'m not complaining because Forrest Gump got best picture, since that film was also Oscar-worthy, but come on, movies like Tarantino\\'s or the Shawshank Redemption deserved much more.\\n\\nAnyway, going back to the movie, I particularly liked the first and second chapters, and that\\'s really a contradiction because one of the movie\\'s finest characters, Mr. Wolf, appears on the third. Bruce Willis also does a great job, and as far as I\\'m concerned he fell in love with the movie right after having read the script. I like the way his character gives a \"tough guy\" image at the beginning and then we discover he\\'s so affectionate and tender to his wife. Travolta is obviously the star of the movie and his second encounter with Bruce Willis in the kitchen along with the scene where he dances with Uma Thurman is when the movie reaches it\\'s highest point.\\n\\nThe other star is Samuel L. Jackson, who plays a wise assassin that obviously knows how to handle situations. \"And I will strike down upon thee with great vengeance and furious anger...\" is my favourite quote.\\n\\nSummarizing, Pulp Fiction is a modern classic and a must-see for anyone who is at least aware of what a movie is. I give it a 9 out of 10.',\n",
       "  \"I was tempted to stop watching it about four times. I went up to the end just to see if, at least, there is something extraordinary or unexpected there. I really can't understand what all these viewers found to this film, to score it so high. It's the first time (or the second I'm not sure!) that I get into the mood of writing a review. The reason, I guess, is because this film is the fifth in the top 250 ranking and I couldn't see why. The curiosity of the ranking was also the reason of watching it at the first place. There is a high end casting and a top level director but nothing more, IN MY OPINION. I tried looking it through the eyes of 1994 but still compared to other productions of the age is far behind. If you find yourself in the position wondering whether to watch this film or not, due to its place in the list\\x85 don't waste your time!\",\n",
       "  'This movie is such a masterpiece for many reasons. The way everything connects makes it really important for you to pay attention. Lots of action and very funny. It also has a really good balance of everything you look for in a movie.',\n",
       "  'Conflicted on this one. I like a lot of elements of it, the characters are (mostly) really compelling and interesting. I think some of the \"Segments\" are a lot stronger than others. I think that the first part of Bruce Willis\\'s story is just... bland. I didn\\'t find it very interesting or compelling. It gets interesting though. The first and last are by far my favourite, but for the most part it\\'s pretty strong. I do think this film is slightly overrated. That\\'s not to say that it isn\\'t good, but I think a lot of people think it is a whole lot better then it is. The film is acted well and I enjoyed all the action, not to mention the comedy in this film caught me by surprise. I found it really hilarious. I see why everyone had/has a crush on Uma Thurman now, she really is deserving of the main character on the cover. I also remembered how much I like long shots. I think they allow exposition to be delivered in a way that is more pleasing to the audience. Overall, good crime flick with some great comedy and action but a tad overrated. 7-8/10.',\n",
       "  \"It's not a film it's a experience. The characters are very memorable The story of nonlinear dialogue and action no the whole movie is fast and fun there's no down time or anything boring the movie is long. There's more then 10 memorable scenes that is referenced in any type of media. I like to think of pulp fiction as resvoir dogs another film by the genius tarrintino as a better version of it. I thought resvoir dogs had the coffe scene at the start and mr white hurting the police officer. I thought the movie was stretched out more then it needed to and the ending gave me such a poor taste in my mouth. I still like it, like I would get a poster or t shirt of resvoir dogs to show my opinion. There did you see that I lost focus that's what pulp fiction does it makes you forget about the world but remember about the experience. The scene where butch reclaims himself in the eyes of walleces is a redemption story in itself about how we can all get together without fighting and being greedy. The part where 2 scenes ( tiny bit of a spoiler but watch Pulp fiction now if you haven't) where somehow at point blank range a revolver didn't shoot Jules and vincent and somehow Vincent shoots one of the guys in the head on accident. Thats a message life is like a box of chocolates the things you never expect will happen. Another part of the idea is the violence and sex violence plays a big part in this movie these are horrible people that everyone loves when I see this film I feel like it's a LEGO set controlled by tarrintino everything goes together like cause and effect yet while still being random sex is not that big in the film expect for the epic scene where butch remdeems himself and when butch is making out with his girlfriend but that scene was still great because he had to find his watch holy crap. This movie has dialogue lots of it and that's fantastic he is known for dialogue the tarrintino himself said that dialogue is a major component in his films and it shows, other films have such poopy dialogue where all they do is talk about nothing like get on with it. Pulp fiction is the story of 3 as 1 and should be hands down the number 1 film of the millennium .\"],\n",
       " 'image': 'https://m.media-amazon.com/images/M/MV5BYTViYTE3ZGQtNDBlMC00ZTAyLTkyODMtZGRiZDg0MjA2YThkXkEyXkFqcGc@._V1_.jpg',\n",
       " 'name': 'Pulp Fiction',\n",
       " 'country': 'US',\n",
       " 'release_date': '14/10/1994',\n",
       " 'ratings': 8.9,\n",
       " 'total_votes': 2273320}"
      ]
     },
     "execution_count": 133,
     "metadata": {},
     "output_type": "execute_result"
    }
   ],
   "source": [
    "movie_details"
   ]
  }
 ],
 "metadata": {
  "kernelspec": {
   "display_name": "da_project",
   "language": "python",
   "name": "da_project"
  },
  "language_info": {
   "codemirror_mode": {
    "name": "ipython",
    "version": 3
   },
   "file_extension": ".py",
   "mimetype": "text/x-python",
   "name": "python",
   "nbconvert_exporter": "python",
   "pygments_lexer": "ipython3",
   "version": "3.12.4"
  }
 },
 "nbformat": 4,
 "nbformat_minor": 5
}
